{
 "metadata": {
  "name": "",
  "signature": "sha256:ad5ac3d6930efdd854bc3b47ba868d07e1a922598c7bef4c56b2ad14176d1d3d"
 },
 "nbformat": 3,
 "nbformat_minor": 0,
 "worksheets": [
  {
   "cells": [
    {
     "cell_type": "markdown",
     "metadata": {},
     "source": [
      "Memory management and indexing\n",
      "==\n",
      "\n",
      "Information about memory allocation in `cython` can be found here: http://docs.cython.org/src/tutorial/memory_allocation.html\n",
      "Efficient indexing of `numpy` arrays is described here: http://docs.cython.org/src/tutorial/numpy.html"
     ]
    },
    {
     "cell_type": "code",
     "collapsed": false,
     "input": [
      "%%cython\n",
      "\n",
      "cimport cython, numpy as np\n",
      "from cpython.mem cimport PyMem_Malloc, PyMem_Realloc, PyMem_Free\n",
      "\n",
      "#Allocates a double array of the specified length\n",
      "def allocate_double(int n):\n",
      "    cdef double* p = <double*>PyMem_Malloc(sizeof(double) * n)\n",
      "    return <long>p\n",
      "    \n",
      "#Frees the specified array\n",
      "def free(long p):\n",
      "    PyMem_Free(<void*>p)\n",
      "    \n",
      "#Sets the elements of the double array to increasing integers (raw C array)\n",
      "def set_range_raw(long p_, int n):\n",
      "    cdef double* p = <double*>p_\n",
      "    cdef int i\n",
      "    for i in range(n):\n",
      "        p[i] = i\n",
      "        \n",
      "#Sets the elements of the double array to increasing integers (numpy array)\n",
      "@cython.boundscheck(False)\n",
      "def set_range_np(np.ndarray[np.float64_t, ndim=1] a):\n",
      "    cdef int i\n",
      "    for i in range(a.shape[0]):\n",
      "        a[i] = i"
     ],
     "language": "python",
     "metadata": {},
     "outputs": [],
     "prompt_number": 15
    },
    {
     "cell_type": "code",
     "collapsed": false,
     "input": [
      "#The number of elements\n",
      "n = 2**20\n",
      "#Memory allocation test for numpy\n",
      "%timeit np.empty(n)"
     ],
     "language": "python",
     "metadata": {},
     "outputs": [
      {
       "output_type": "stream",
       "stream": "stdout",
       "text": [
        "1000 loops, best of 3: 650 \u00b5s per loop\n"
       ]
      }
     ],
     "prompt_number": 13
    },
    {
     "cell_type": "code",
     "collapsed": false,
     "input": [
      "%%timeit\n",
      "#Memory allocation test for raw array\n",
      "p = allocate_double(n)\n",
      "free(p)"
     ],
     "language": "python",
     "metadata": {},
     "outputs": [
      {
       "output_type": "stream",
       "stream": "stdout",
       "text": [
        "1000 loops, best of 3: 631 \u00b5s per loop\n"
       ]
      }
     ],
     "prompt_number": 14
    },
    {
     "cell_type": "code",
     "collapsed": false,
     "input": [
      "#Allocate memory\n",
      "raw_array = allocate_double(n)\n",
      "np_array = np.empty(n)\n",
      "#Perform the indexing\n",
      "%timeit set_range_raw(raw_array, n)\n",
      "%timeit set_range_np(np_array)\n",
      "free(raw_array)"
     ],
     "language": "python",
     "metadata": {},
     "outputs": [
      {
       "output_type": "stream",
       "stream": "stdout",
       "text": [
        "100 loops, best of 3: 4.44 ms per loop\n",
        "100 loops, best of 3: 4.42 ms per loop"
       ]
      },
      {
       "output_type": "stream",
       "stream": "stdout",
       "text": [
        "\n"
       ]
      }
     ],
     "prompt_number": 12
    },
    {
     "cell_type": "markdown",
     "metadata": {},
     "source": [
      "**Conclusions**: Memory allocation is marginally faster with raw C (2.9%) but not worth the extra overhead. Surprisingly, indexing is faster for `numpy` arrays (0.5%)."
     ]
    },
    {
     "cell_type": "code",
     "collapsed": false,
     "input": [],
     "language": "python",
     "metadata": {},
     "outputs": []
    }
   ],
   "metadata": {}
  }
 ]
}